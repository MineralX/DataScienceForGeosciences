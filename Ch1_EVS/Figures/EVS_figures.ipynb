{
  "nbformat": 4,
  "nbformat_minor": 0,
  "metadata": {
    "colab": {
      "name": "EVS_figures.ipynb",
      "provenance": [],
      "collapsed_sections": [],
      "authorship_tag": "ABX9TyND2WS3nezl6FmCk4eK2qk4",
      "include_colab_link": true
    },
    "kernelspec": {
      "name": "python3",
      "display_name": "Python 3"
    },
    "language_info": {
      "name": "python"
    }
  },
  "cells": [
    {
      "cell_type": "markdown",
      "metadata": {
        "id": "view-in-github",
        "colab_type": "text"
      },
      "source": [
        "<a href=\"https://colab.research.google.com/github/lijingwang/DataScienceForGeosciences/blob/main/Ch1_EVS/Figures/EVS_figures.ipynb\" target=\"_parent\"><img src=\"https://colab.research.google.com/assets/colab-badge.svg\" alt=\"Open In Colab\"/></a>"
      ]
    },
    {
      "cell_type": "markdown",
      "metadata": {
        "id": "wWHFIxuIg5Ur"
      },
      "source": [
        "Author: Lijing Wang, lijing52@stanford.edu; David Zhen Yin, yinzhen@stanford.edu; Jef Caers, jcaers@stanford.edu (2022)\n",
        "\n",
        "Data Science for Geosciences"
      ]
    },
    {
      "cell_type": "markdown",
      "metadata": {
        "id": "sxS_CtJbhI0a"
      },
      "source": [
        "### Figure 1"
      ]
    },
    {
      "cell_type": "code",
      "metadata": {
        "id": "h0hOlcD8g4Aa"
      },
      "source": [
        "%matplotlib inline\n",
        "%config InlineBackend.figure_format = 'retina'\n",
        "import numpy as np\n",
        "import matplotlib.pyplot as plt\n",
        "\n",
        "\n",
        "\n",
        "\n",
        "\n",
        "\n",
        "plt.savefig('destination_path.eps', format='eps')"
      ],
      "execution_count": null,
      "outputs": []
    }
  ]
}